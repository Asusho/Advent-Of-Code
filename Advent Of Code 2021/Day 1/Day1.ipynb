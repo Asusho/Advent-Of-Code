{
 "cells": [
  {
   "cell_type": "markdown",
   "metadata": {},
   "source": [
    "<h1> <center>Advent of Code </center></h1>\n",
    "<h3><center> --- Day 1 : Sonar Sweep --- </center></h3>"
   ]
  },
  {
   "cell_type": "markdown",
   "metadata": {},
   "source": [
    "Challenge link : [https://adventofcode.com/2021/day/1](https://adventofcode.com/2021/day/1)."
   ]
  },
  {
   "cell_type": "markdown",
   "metadata": {},
   "source": [
    "First, import numpy to work with arrays"
   ]
  },
  {
   "cell_type": "code",
   "execution_count": 1,
   "metadata": {},
   "outputs": [],
   "source": [
    "import numpy as np"
   ]
  },
  {
   "cell_type": "markdown",
   "metadata": {},
   "source": [
    "## Part 1\n",
    "\n",
    "Load dataset"
   ]
  },
  {
   "cell_type": "code",
   "execution_count": 2,
   "metadata": {},
   "outputs": [
    {
     "name": "stdout",
     "output_type": "stream",
     "text": [
      "[ 195  197  201 ... 8562 8563 8562]\n"
     ]
    }
   ],
   "source": [
    "data = np.loadtxt('data.txt').astype(int)\n",
    "print(data)"
   ]
  },
  {
   "cell_type": "markdown",
   "metadata": {},
   "source": [
    "How many measurements are larger than the previous measurement?"
   ]
  },
  {
   "cell_type": "code",
   "execution_count": 20,
   "metadata": {},
   "outputs": [
    {
     "name": "stdout",
     "output_type": "stream",
     "text": [
      "There is 1624 measurements larger than the previous measurement.\n"
     ]
    }
   ],
   "source": [
    "cpt = 0\n",
    "for i in range(1,data.size):\n",
    "    if(data[i]>data[i-1]):\n",
    "        cpt+=1\n",
    "print(\"There is\",cpt, \"measurements larger than the previous measurement.\")"
   ]
  },
  {
   "cell_type": "markdown",
   "metadata": {},
   "source": [
    "## Part 2"
   ]
  },
  {
   "cell_type": "markdown",
   "metadata": {},
   "source": [
    "Consider sums of a three-measurement sliding window. How many sums are larger than the previous sum?"
   ]
  },
  {
   "cell_type": "code",
   "execution_count": 39,
   "metadata": {},
   "outputs": [
    {
     "name": "stdout",
     "output_type": "stream",
     "text": [
      "There is 1653 measurements larger than the previous measurement.\n"
     ]
    }
   ],
   "source": [
    "cpt = 0\n",
    "for i in range(0,data.size-3):\n",
    "    sum1 = data[i] + data[i+1] + data[i+2]\n",
    "    sum2 = data[i+1] + data[i+2] + data[i+3]\n",
    "    if(sum1<sum2):\n",
    "        cpt+=1\n",
    "print(\"There is\",cpt, \"measurements larger than the previous measurement.\")"
   ]
  }
 ],
 "metadata": {
  "interpreter": {
   "hash": "8eac9bf0c424d6bbe911c7befd9ae578088d52fa4140d4beda1f201a7e418e6b"
  },
  "kernelspec": {
   "display_name": "Python 3.8.2 32-bit",
   "name": "python3"
  },
  "language_info": {
   "codemirror_mode": {
    "name": "ipython",
    "version": 3
   },
   "file_extension": ".py",
   "mimetype": "text/x-python",
   "name": "python",
   "nbconvert_exporter": "python",
   "pygments_lexer": "ipython3",
   "version": "3.8.2"
  },
  "orig_nbformat": 4
 },
 "nbformat": 4,
 "nbformat_minor": 2
}
