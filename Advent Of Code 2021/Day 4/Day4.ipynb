{
 "cells": [
  {
   "cell_type": "markdown",
   "metadata": {},
   "source": [
    "<h1> <center>Advent of Code </center></h1>\n",
    "<h3><center> --- Day 4 : Giant Squid --- </center></h3>"
   ]
  },
  {
   "cell_type": "markdown",
   "metadata": {},
   "source": [
    "Challenge link : [https://adventofcode.com/2021/day/4](https://adventofcode.com/2021/day/4)."
   ]
  },
  {
   "cell_type": "code",
   "execution_count": 65,
   "metadata": {},
   "outputs": [],
   "source": [
    "import numpy as np"
   ]
  },
  {
   "cell_type": "markdown",
   "metadata": {},
   "source": [
    "Load number order and boards:"
   ]
  },
  {
   "cell_type": "code",
   "execution_count": 153,
   "metadata": {},
   "outputs": [
    {
     "name": "stdout",
     "output_type": "stream",
     "text": [
      "Order : [73 42 95 35 13 40 99 92 33 30 83  1 36 93 59 90 55 25 77 44 37 62 41 47\n",
      " 80 23 51 61 21 20 76  8 71 34 58  5 52 22 39 57 17  2 26  0 10 72 19  3\n",
      " 64 65 82 46 31 63 91 24 18 12  9 79 50 98 69  4 78 54 43 68 87  7 67 48\n",
      " 28 89 94 53 85 81 49 88  6 96 29 56 97 66 38 16 32 70 74 27 84 86 45 75\n",
      " 60 15 14 11]\n",
      "Order count : 100\n",
      "Boards count : 99\n"
     ]
    }
   ],
   "source": [
    "data = open(\"data.txt\")\n",
    "order = []\n",
    "boards = []\n",
    "board = []\n",
    "\n",
    "for i, line in enumerate(data.readlines()): \n",
    "    if(i==0):\n",
    "        order = np.fromstring(line, dtype=int, sep=',')\n",
    "    else:\n",
    "        if line == \"\\n\":\n",
    "            if(len(board) != 0):\n",
    "                board = np.array(board)\n",
    "                board.reshape([5,5])\n",
    "                boards.append(board)\n",
    "            board = []\n",
    "        else:\n",
    "            board_line = np.fromstring(line, dtype=int, sep=' ')\n",
    "            board.append(board_line)\n",
    "        \n",
    "boards = np.array(boards)\n",
    "\n",
    "\n",
    "print(\"Order :\",order)\n",
    "print(\"Order count :\", order.size)\n",
    "boards_count = boards.size//25\n",
    "print(\"Boards count :\", boards_count)\n",
    "\n",
    "# print(boards)\n",
    "\n"
   ]
  },
  {
   "cell_type": "markdown",
   "metadata": {},
   "source": [
    "Define check function for one board"
   ]
  },
  {
   "cell_type": "code",
   "execution_count": 154,
   "metadata": {},
   "outputs": [],
   "source": [
    "def check_board(board):\n",
    "    result = np.all((board == 1), axis=1)\n",
    "    result2 = np.all((board == 1), axis=0)\n",
    "    for i in range(len(result)):\n",
    "        if result[i] or result2[i]:\n",
    "            return True\n",
    "    return False\n",
    "\n",
    "\n",
    "def check_number_in_board(number,board,board_rep):\n",
    "    for i,line in enumerate(board):\n",
    "        for j,col in enumerate(line):\n",
    "            if(board[i][j] == number):\n",
    "                board_rep[i][j] = 1\n",
    "    return board_rep\n",
    "\n",
    "def score(board, board_check):\n",
    "    sum = 0\n",
    "    for i,line in enumerate(board):\n",
    "        for j,col in enumerate(line):\n",
    "            if(board_check[i][j] == 0):\n",
    "               sum+=board[i][j]\n",
    "    return sum"
   ]
  },
  {
   "cell_type": "code",
   "execution_count": 157,
   "metadata": {},
   "outputs": [
    {
     "name": "stdout",
     "output_type": "stream",
     "text": [
      "board 84 wins after 32 iterations thanks to this number : 71\n",
      "[[0. 0. 0. 0. 0.]\n",
      " [0. 0. 0. 0. 1.]\n",
      " [0. 1. 1. 0. 1.]\n",
      " [1. 1. 1. 1. 1.]\n",
      " [1. 1. 0. 0. 0.]]\n",
      "Score : 562\n",
      "Solution : 39902\n"
     ]
    }
   ],
   "source": [
    "boards_check = []\n",
    "for board in boards :\n",
    "    board_check = np.zeros([5,5])\n",
    "    boards_check.append(board_check)\n",
    "\n",
    "boards_check = np.array(boards_check)\n",
    "\n",
    "# print(\"Checking :\",boards_check)\n",
    "\n",
    "\n",
    "for iteration,num in enumerate(order):\n",
    "    for i,board in enumerate(boards):\n",
    "        boards_check[i] = check_number_in_board(num,board,boards_check[i])\n",
    "        if(check_board(boards_check[i])):\n",
    "            print(\"board\", i, \"wins after\",iteration,\"iterations thanks to this number :\",num)\n",
    "            print(boards_check[i])\n",
    "            print(\"Score :\",score(boards[i],boards_check[i]))\n",
    "            print(\"Solution :\",score(boards[i],boards_check[i])*num)\n",
    "            break\n",
    "    else:\n",
    "        # Continue if the inner loop wasn't broken.\n",
    "        continue\n",
    "    # Inner loop was broken, break the outer.\n",
    "    break\n"
   ]
  },
  {
   "cell_type": "code",
   "execution_count": 185,
   "metadata": {},
   "outputs": [
    {
     "name": "stdout",
     "output_type": "stream",
     "text": [
      "board 45 sure lose\n",
      "Score : 481\n",
      "Solution : 26936\n"
     ]
    }
   ],
   "source": [
    "boards_check = []\n",
    "for board in boards :\n",
    "    board_check = np.zeros([5,5])\n",
    "    boards_check.append(board_check)\n",
    "\n",
    "boards_check = np.array(boards_check)\n",
    "\n",
    "# print(\"Checking :\",boards_check)\n",
    "\n",
    "winners = []\n",
    "loser = -1\n",
    "\n",
    "for iteration,num in enumerate(order):\n",
    "    for i,board in enumerate(boards):\n",
    "        boards_check[i] = check_number_in_board(num,board,boards_check[i])\n",
    "        if(check_board(boards_check[i])):\n",
    "            if(i not in winners):\n",
    "                winners.append(i)\n",
    "            if(len(winners) == boards_count - 1 and loser<0):\n",
    "                winners.sort()\n",
    "                for index,winner in enumerate(winners):\n",
    "                    if(index != winner):\n",
    "                        print(\"board\",index,'sure lose')\n",
    "                        loser = index\n",
    "                        break\n",
    "            if(len(winners) == boards_count):\n",
    "                print(\"Score :\",score(boards[index],boards_check[index]))\n",
    "                print(\"Solution :\",score(boards[index],boards_check[index])*num)\n",
    "                break\n",
    "    else:\n",
    "        # Continue if the inner loop wasn't broken.\n",
    "        continue\n",
    "    # Inner loop was broken, break the outer.\n",
    "    break\n",
    "\n"
   ]
  }
 ],
 "metadata": {
  "interpreter": {
   "hash": "e1d0ae609f57c2cc1786537a7f54792436753b3bde1837e0c7a1b53c21f8be6e"
  },
  "kernelspec": {
   "display_name": "Python 3.7.4 64-bit ('base': conda)",
   "name": "python3"
  },
  "language_info": {
   "codemirror_mode": {
    "name": "ipython",
    "version": 3
   },
   "file_extension": ".py",
   "mimetype": "text/x-python",
   "name": "python",
   "nbconvert_exporter": "python",
   "pygments_lexer": "ipython3",
   "version": "3.7.4"
  },
  "orig_nbformat": 4
 },
 "nbformat": 4,
 "nbformat_minor": 2
}
