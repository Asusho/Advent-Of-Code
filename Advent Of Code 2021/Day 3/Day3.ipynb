{
 "cells": [
  {
   "cell_type": "markdown",
   "metadata": {},
   "source": [
    "<h1> <center>Advent of Code </center></h1>\n",
    "<h3><center> --- Day 3 : Binary Diagnostic --- </center></h3>"
   ]
  },
  {
   "cell_type": "markdown",
   "metadata": {},
   "source": [
    "Challenge link : [https://adventofcode.com/2021/day/3](https://adventofcode.com/2021/day/3)."
   ]
  },
  {
   "cell_type": "code",
   "execution_count": 36,
   "metadata": {},
   "outputs": [],
   "source": [
    "with open('data.txt') as f:\n",
    "    data = [[int(n) for n in line.strip()] for line in f.readlines()]\n"
   ]
  },
  {
   "cell_type": "markdown",
   "metadata": {},
   "source": [
    "## Part 1"
   ]
  },
  {
   "cell_type": "code",
   "execution_count": 37,
   "metadata": {},
   "outputs": [
    {
     "name": "stdout",
     "output_type": "stream",
     "text": [
      "Gamma rate : [1, 1, 1, 1, 0, 0, 1, 1, 1, 1, 1, 1] 3903\n",
      "Epsilon rate : [0, 0, 0, 0, 1, 1, 0, 0, 0, 0, 0, 0] 192\n",
      "gamma x epsilon = 749376\n"
     ]
    }
   ],
   "source": [
    "inputSize = len(data[0])\n",
    "\n",
    "gamma_rate = []\n",
    "epsilon_rate  = []\n",
    "\n",
    "for j in range(inputSize):\n",
    "    nb0 = 0\n",
    "    nb1 = 0\n",
    "    for input in data:\n",
    "        if(input[j]==1):\n",
    "            nb1+=1\n",
    "        else:\n",
    "            nb0+=1\n",
    "    if(nb0>nb1):\n",
    "        gamma_rate.append(0)\n",
    "        epsilon_rate.append(1)\n",
    "    else:\n",
    "        gamma_rate.append(1)\n",
    "        epsilon_rate.append(0)\n",
    "\n",
    "gamma_string = \"\"\n",
    "epsilon_string = \"\"\n",
    "\n",
    "for b in range(len(gamma_rate)):\n",
    "    gamma_string += str(gamma_rate[b])\n",
    "    epsilon_string += str(epsilon_rate[b])\n",
    "\n",
    "gamma = eval('0b' + gamma_string)\n",
    "epsilon = eval('0b' + epsilon_string)\n",
    "\n",
    "print(\"Gamma rate :\",gamma_rate,gamma)\n",
    "print(\"Epsilon rate :\",epsilon_rate,epsilon)\n",
    "\n",
    "print(\"gamma x epsilon =\",gamma*epsilon)\n",
    "    "
   ]
  },
  {
   "cell_type": "markdown",
   "metadata": {},
   "source": [
    "## Part 2"
   ]
  },
  {
   "cell_type": "code",
   "execution_count": 38,
   "metadata": {},
   "outputs": [
    {
     "name": "stdout",
     "output_type": "stream",
     "text": [
      "476 6\n",
      "Oxygen : 3871\n",
      "CO2 : 613\n",
      "oxygen x co2 = 2372923\n"
     ]
    }
   ],
   "source": [
    "oxygenIndex = [i for i in range(len(data))]\n",
    "co2Index = [i for i in range(len(data))]\n",
    "\n",
    "\n",
    "index = 0\n",
    "while(len(oxygenIndex)>1 and index<inputSize):\n",
    "    nb0 = 0\n",
    "    nb1 = 0\n",
    "    dataOX = [data[i] for i in oxygenIndex]\n",
    "    for input in dataOX:\n",
    "        if(input[index]==1):\n",
    "            nb1+=1\n",
    "        else:\n",
    "            nb0+=1\n",
    "    \n",
    "    tmp = oxygenIndex.copy()\n",
    "    \n",
    "    if(nb1>=nb0):\n",
    "        for i in tmp:\n",
    "            if(data[i][index]==0):\n",
    "                oxygenIndex.remove(i)\n",
    "    else:\n",
    "        for i in tmp:\n",
    "            if(data[i][index]==1):\n",
    "                oxygenIndex.remove(i)    \n",
    "    index+=1\n",
    "\n",
    "\n",
    "\n",
    "index = 0\n",
    "while(len(co2Index)>1 and index<inputSize):\n",
    "    nb0 = 0\n",
    "    nb1 = 0\n",
    "    dataCO2 = [data[i] for i in co2Index]\n",
    "    for input in dataCO2:\n",
    "        if(input[index]==1):\n",
    "            nb1+=1\n",
    "        else:\n",
    "            nb0+=1\n",
    "    \n",
    "    tmp = co2Index.copy()\n",
    "    if(nb0<=nb1):\n",
    "        for i in tmp:\n",
    "            if(data[i][index]==1):\n",
    "                co2Index.remove(i) \n",
    "    else:\n",
    "        for i in tmp:\n",
    "            if(data[i][index]==0):\n",
    "                co2Index.remove(i) \n",
    "    index+=1\n",
    "\n",
    "oxygenIndex = oxygenIndex[0]\n",
    "co2Index = co2Index[0]\n",
    "print(oxygenIndex, co2Index)\n",
    "\n",
    "oxygen_string = \"\"\n",
    "co2_string = \"\"\n",
    "\n",
    "for b in range(len(data[oxygenIndex])):\n",
    "    oxygen_string += str(data[oxygenIndex][b])\n",
    "    co2_string += str(data[co2Index][b])\n",
    "\n",
    "oxygen = eval('0b' + oxygen_string)\n",
    "co2 = eval('0b' + co2_string)\n",
    "\n",
    "print(\"Oxygen :\",oxygen)\n",
    "print(\"CO2 :\",co2)\n",
    "\n",
    "print(\"oxygen x co2 =\",oxygen*co2)"
   ]
  }
 ],
 "metadata": {
  "interpreter": {
   "hash": "8eac9bf0c424d6bbe911c7befd9ae578088d52fa4140d4beda1f201a7e418e6b"
  },
  "kernelspec": {
   "display_name": "Python 3.8.2 32-bit",
   "name": "python3"
  },
  "language_info": {
   "codemirror_mode": {
    "name": "ipython",
    "version": 3
   },
   "file_extension": ".py",
   "mimetype": "text/x-python",
   "name": "python",
   "nbconvert_exporter": "python",
   "pygments_lexer": "ipython3",
   "version": "3.8.2"
  },
  "orig_nbformat": 4
 },
 "nbformat": 4,
 "nbformat_minor": 2
}
