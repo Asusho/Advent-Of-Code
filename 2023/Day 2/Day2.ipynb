{
 "cells": [
  {
   "cell_type": "markdown",
   "metadata": {},
   "source": [
    "<h1> <center>Advent of Code 2023</center></h1>\n",
    "<h3><center> --- Day 3 : Cube Conundrum --- </center></h3>"
   ]
  },
  {
   "cell_type": "markdown",
   "metadata": {},
   "source": [
    "Challenge link : [https://adventofcode.com/2023/day/2](https://adventofcode.com/2023/day/2).\n"
   ]
  },
  {
   "cell_type": "markdown",
   "metadata": {},
   "source": [
    "> You're launched high into the atmosphere! The apex of your trajectory just barely reaches the surface of a large island floating in the sky. You gently land in a fluffy pile of leaves. It's quite cold, but you don't see much snow. An Elf runs over to greet you.\n",
    "> \n",
    "> The Elf explains that you've arrived at Snow Island and apologizes for the lack of snow. He'll be happy to explain the situation, but it's a bit of a walk, so you have some time. They don't get many visitors up here; would you like to play a game in the meantime?\n",
    "> \n",
    "> As you walk, the Elf shows you a small bag and some cubes which are either red, green, or blue. Each time you play this game, he will hide a secret number of cubes of each color in the bag, and your goal is to figure out information about the number of cubes.\n",
    "> \n",
    "> To get information, once a bag has been loaded with cubes, the Elf will reach into the bag, grab a handful of random cubes, show them to you, and then put them back in the bag. He'll do this a few times per game.\n",
    "> \n",
    "> You play several games and record the information from each game (your puzzle input). Each game is listed with its ID number (like the 11 in Game 11: ...) followed by a semicolon-separated list of subsets of cubes that were revealed from the bag (like 3 red, 5 green, 4 blue).\n",
    "> \n",
    "> For example, the record of a few games might look like this:\n",
    "> \n",
    "> ```\n",
    "> Game 1: 3 blue, 4 red; 1 red, 2 green, 6 blue; 2 green\n",
    "> Game 2: 1 blue, 2 green; 3 green, 4 blue, 1 red; 1 green, 1 blue\n",
    "> Game 3: 8 green, 6 blue, 20 red; 5 blue, 4 red, 13 green; 5 green, 1 red\n",
    "> Game 4: 1 green, 3 red, 6 blue; 3 green, 6 red; 3 green, 15 blue, 14 red\n",
    "> Game 5: 6 red, 1 blue, 3 green; 2 blue, 1 red, 2 green\n",
    "> ```\n",
    "> In game 1, three sets of cubes are revealed from the bag (and then put back again). The first set is 3 blue cubes and 4 red cubes; the second set is 1 red cube, 2 green cubes, and 6 blue cubes; the third set is only 2 green cubes.\n",
    "> \n",
    "> The Elf would first like to know which games would have been possible if the bag contained only 12 red cubes, 13 green cubes, and 14 blue cubes?\n",
    "> \n",
    "> In the example above, games 1, 2, and 5 would have been possible if the bag had been loaded with that configuration. However, game 3 would have been impossible because at one point the Elf showed you 20 red cubes at once; similarly, game 4 would also have been impossible because the Elf showed you 15 blue cubes at once. If you add up the IDs of the games that would have been possible, you get 8.\n",
    "> \n",
    "> <span style=\"color: hsl(15, 100%, 72%); font-weight:bold;\">Determine which games would have been possible if the bag had been loaded with only 12 red cubes, 13 green cubes, and 14 blue cubes. What is the sum of the IDs of those games?</span>"
   ]
  },
  {
   "cell_type": "code",
   "execution_count": 35,
   "metadata": {},
   "outputs": [],
   "source": [
    "data = [item for item in open('data.txt').read().split('\\n')]"
   ]
  },
  {
   "cell_type": "code",
   "execution_count": 36,
   "metadata": {},
   "outputs": [],
   "source": [
    "max_cubes = {\"red\":12, \"green\":13, \"blue\":14}"
   ]
  },
  {
   "cell_type": "code",
   "execution_count": 37,
   "metadata": {},
   "outputs": [
    {
     "name": "stdout",
     "output_type": "stream",
     "text": [
      "2563\n"
     ]
    }
   ],
   "source": [
    "sum=0\n",
    "for line in data:\n",
    "    ok = True\n",
    "    game_id = int(line.split(':')[0].split(' ')[1])\n",
    "    sets = line.split(':')[1].split(';')\n",
    "    for set in sets:\n",
    "        cubes = set.split(',')\n",
    "        for cube in cubes:\n",
    "            color = cube.split(' ')[2]\n",
    "            count = cube.split(' ')[1]\n",
    "            if max_cubes[color] < int(count):\n",
    "                ok = False\n",
    "    if ok==True:\n",
    "        sum += game_id\n",
    "print(sum)"
   ]
  },
  {
   "cell_type": "markdown",
   "metadata": {},
   "source": [
    "\n",
    "<h3><center> --- Part Two --- </center></h3>\n",
    "\n",
    "> The Elf says they've stopped producing snow because they aren't getting any water! He isn't sure why the water stopped; however, he can show you how to get to the water source to check it out for yourself. It's just up ahead!\n",
    "> \n",
    "> As you continue your walk, the Elf poses a second question: in each game you played, what is the fewest number of cubes of each color that could have been in the bag to make the game possible?\n",
    "> \n",
    "> Again consider the example games from earlier:\n",
    "> \n",
    "> ```\n",
    "> Game 1: 3 blue, 4 red; 1 red, 2 green, 6 blue; 2 green\n",
    "> Game 2: 1 blue, 2 green; 3 green, 4 blue, 1 red; 1 green, 1 blue\n",
    "> Game 3: 8 green, 6 blue, 20 red; 5 blue, 4 red, 13 green; 5 green, 1 red\n",
    "> Game 4: 1 green, 3 red, 6 blue; 3 green, 6 red; 3 green, 15 blue, 14 red\n",
    "> Game 5: 6 red, 1 blue, 3 green; 2 blue, 1 red, 2 green\n",
    "> ```\n",
    "> - In game 1, the game could have been played with as few as 4 red, 2 green, and 6 blue cubes. > If any color had even one fewer cube, the game would have been impossible.\n",
    "> - Game 2 could have been played with a minimum of 1 red, 3 green, and 4 blue cubes.\n",
    "> - Game 3 must have been played with at least 20 red, 13 green, and 6 blue cubes.\n",
    "> - Game 4 required at least 14 red, 3 green, and 15 blue cubes.\n",
    "> - Game 5 needed no fewer than 6 red, 3 green, and 2 blue cubes in the bag.\n",
    "> The power of a set of cubes is equal to the numbers of red, green, and blue cubes multiplied together. The power of the minimum set of cubes in game 1 is 48. In games 2-5 it was 12, 1560, 630, and 36, respectively. Adding up these five powers produces the sum 2286.\n",
    "> \n",
    "> <span style=\"color: hsl(15, 100%, 72%); font-weight:bold;\">For each game, find the minimum set of cubes that must have been present. What is the sum of the power of these sets?</span>"
   ]
  },
  {
   "cell_type": "code",
   "execution_count": 40,
   "metadata": {},
   "outputs": [
    {
     "name": "stdout",
     "output_type": "stream",
     "text": [
      "70768\n"
     ]
    }
   ],
   "source": [
    "sum=0\n",
    "for line in data:\n",
    "    fewest_cubes = {\"red\":0, \"green\":0, \"blue\":0}\n",
    "    sets = line.split(':')[1].split(';')\n",
    "    for set in sets:\n",
    "        cubes = set.split(',')\n",
    "        for cube in cubes:\n",
    "            color = cube.split(' ')[2]\n",
    "            count = int(cube.split(' ')[1])\n",
    "            if fewest_cubes[color] < count:\n",
    "                fewest_cubes[color] = count\n",
    "    power = 1\n",
    "    for number in fewest_cubes.values():\n",
    "        power *= number\n",
    "    sum+=power\n",
    "print(sum)"
   ]
  }
 ],
 "metadata": {
  "kernelspec": {
   "display_name": "Python 3",
   "language": "python",
   "name": "python3"
  },
  "language_info": {
   "codemirror_mode": {
    "name": "ipython",
    "version": 3
   },
   "file_extension": ".py",
   "mimetype": "text/x-python",
   "name": "python",
   "nbconvert_exporter": "python",
   "pygments_lexer": "ipython3",
   "version": "3.12.0"
  }
 },
 "nbformat": 4,
 "nbformat_minor": 2
}
