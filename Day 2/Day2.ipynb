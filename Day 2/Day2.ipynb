{
 "cells": [
  {
   "cell_type": "markdown",
   "metadata": {},
   "source": [
    "<h1> <center>Advent of Code </center></h1>\n",
    "<h3><center> --- Day 2 : Dive! --- </center></h3>"
   ]
  },
  {
   "cell_type": "markdown",
   "metadata": {},
   "source": [
    "Challenge link : [https://adventofcode.com/2021/day/2](https://adventofcode.com/2021/day/2)."
   ]
  },
  {
   "cell_type": "markdown",
   "metadata": {},
   "source": [
    "## Part 1\n",
    "\n",
    "Load dataset"
   ]
  },
  {
   "cell_type": "code",
   "execution_count": 62,
   "metadata": {},
   "outputs": [],
   "source": [
    "data = open(\"data.txt\")"
   ]
  },
  {
   "cell_type": "markdown",
   "metadata": {},
   "source": [
    "Calculate the horizontal position and depth you would have after following the planned course. What do you get if you multiply your final horizontal position by your final depth?"
   ]
  },
  {
   "cell_type": "code",
   "execution_count": 63,
   "metadata": {},
   "outputs": [
    {
     "name": "stdout",
     "output_type": "stream",
     "text": [
      "Horizontal position : 1868 \n",
      "Depth : 1090\n",
      "Horizontal x Depth = 2036120\n"
     ]
    }
   ],
   "source": [
    "horizontal = 0\n",
    "depth = 0\n",
    "\n",
    "for line in data:\n",
    "    input = line.split()\n",
    "    if(input[0] == \"forward\"):\n",
    "        horizontal += int(input[1])\n",
    "    elif(input[0] == \"down\"):\n",
    "        depth += int(input[1])\n",
    "    else:\n",
    "        depth-= int(input[1])\n",
    "\n",
    "print(\"Horizontal position :\",horizontal,\"\\nDepth :\",depth)\n",
    "print(\"Horizontal x Depth =\", horizontal*depth)"
   ]
  },
  {
   "cell_type": "markdown",
   "metadata": {},
   "source": [
    "## Part 2\n",
    "\n",
    "Using this new interpretation of the commands, calculate the horizontal position and depth you would have after following the planned course. What do you get if you multiply your final horizontal position by your final depth?"
   ]
  },
  {
   "cell_type": "code",
   "execution_count": 69,
   "metadata": {},
   "outputs": [
    {
     "name": "stdout",
     "output_type": "stream",
     "text": [
      "Horizontal position : 1868 \n",
      "Depth : 1078987\n",
      "Horizontal x Depth = 2015547716\n"
     ]
    }
   ],
   "source": [
    "horizontal = 0\n",
    "depth = 0\n",
    "aim = 0\n",
    "\n",
    "data = open(\"data.txt\")\n",
    "\n",
    "for line in data:\n",
    "    input = line.split()\n",
    "    if(input[0] == \"forward\"):\n",
    "        horizontal += int(input[1])\n",
    "        depth += int(input[1]) * aim\n",
    "    elif(input[0] == \"down\"):\n",
    "        aim += int(input[1])\n",
    "    else:\n",
    "        aim-= int(input[1])\n",
    "\n",
    "print(\"Horizontal position :\",horizontal,\"\\nDepth :\",depth)\n",
    "print(\"Horizontal x Depth =\", horizontal*depth)"
   ]
  }
 ],
 "metadata": {
  "interpreter": {
   "hash": "63fd5069d213b44bf678585dea6b12cceca9941eaf7f819626cde1f2670de90d"
  },
  "kernelspec": {
   "display_name": "Python 3.9.2 64-bit",
   "language": "python",
   "name": "python3"
  },
  "language_info": {
   "codemirror_mode": {
    "name": "ipython",
    "version": 3
   },
   "file_extension": ".py",
   "mimetype": "text/x-python",
   "name": "python",
   "nbconvert_exporter": "python",
   "pygments_lexer": "ipython3",
   "version": "3.9.2"
  },
  "orig_nbformat": 4
 },
 "nbformat": 4,
 "nbformat_minor": 2
}
